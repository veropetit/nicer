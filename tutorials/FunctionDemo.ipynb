{
  "nbformat": 4,
  "nbformat_minor": 0,
  "metadata": {
    "colab": {
      "name": "FunctionDemo.ipynb",
      "provenance": [],
      "authorship_tag": "ABX9TyMZLNaLqsedzM82dfexQW3T",
      "include_colab_link": true
    },
    "kernelspec": {
      "name": "python3",
      "display_name": "Python 3"
    },
    "language_info": {
      "name": "python"
    }
  },
  "cells": [
    {
      "cell_type": "markdown",
      "metadata": {
        "id": "view-in-github",
        "colab_type": "text"
      },
      "source": [
        "<a href=\"https://colab.research.google.com/github/veropetit/nicer/blob/main/tutorials/FunctionDemo.ipynb\" target=\"_parent\"><img src=\"https://colab.research.google.com/assets/colab-badge.svg\" alt=\"Open In Colab\"/></a>"
      ]
    },
    {
      "cell_type": "markdown",
      "source": [
        "# Function demos"
      ],
      "metadata": {
        "id": "-eSAcIr6GqxD"
      }
    },
    {
      "cell_type": "markdown",
      "source": [
        "## 0. Importing modules"
      ],
      "metadata": {
        "id": "_T7vPJvNKcgv"
      }
    },
    {
      "cell_type": "markdown",
      "source": [
        "For Google Colab, clone the nicer repository into the Colab. If you are working locally and have a cloned version of the package in your PYTHONPATH, you can ignore the cell below."
      ],
      "metadata": {
        "id": "poD9bex-Khag"
      }
    },
    {
      "cell_type": "code",
      "execution_count": 1,
      "metadata": {
        "id": "wm_ihWEnryGx",
        "colab": {
          "base_uri": "https://localhost:8080/"
        },
        "outputId": "195ea6f3-1ac4-4325-935c-b6e41d295e54"
      },
      "outputs": [
        {
          "output_type": "stream",
          "name": "stdout",
          "text": [
            "Cloning into 'nicer'...\n",
            "remote: Enumerating objects: 191, done.\u001b[K\n",
            "remote: Counting objects: 100% (191/191), done.\u001b[K\n",
            "remote: Compressing objects: 100% (145/145), done.\u001b[K\n",
            "remote: Total 191 (delta 68), reused 147 (delta 39), pack-reused 0\u001b[K\n",
            "Receiving objects: 100% (191/191), 5.71 MiB | 30.79 MiB/s, done.\n",
            "Resolving deltas: 100% (68/68), done.\n"
          ]
        }
      ],
      "source": [
        "!git clone https://github.com/veropetit/nicer"
      ]
    },
    {
      "cell_type": "markdown",
      "source": [
        "This cell below is to pull the repo again if I made some changes (without have to reset the runtime)"
      ],
      "metadata": {
        "id": "bHHqfee_0SYD"
      }
    },
    {
      "cell_type": "code",
      "source": [
        "%cd /content/nicer\n",
        "!git pull\n",
        "%cd .."
      ],
      "metadata": {
        "id": "6nG7Mr7Lm23p",
        "outputId": "ea48e136-7b0d-4454-a868-59249f750c76",
        "colab": {
          "base_uri": "https://localhost:8080/"
        }
      },
      "execution_count": 12,
      "outputs": [
        {
          "output_type": "stream",
          "name": "stdout",
          "text": [
            "/content/nicer\n",
            "remote: Enumerating objects: 8, done.\u001b[K\n",
            "remote: Counting objects: 100% (8/8), done.\u001b[K\n",
            "remote: Compressing objects: 100% (4/4), done.\u001b[K\n",
            "remote: Total 5 (delta 1), reused 5 (delta 1), pack-reused 0\u001b[K\n",
            "Unpacking objects: 100% (5/5), done.\n",
            "From https://github.com/veropetit/nicer\n",
            "   12215c7..47ee5ee  main       -> origin/main\n",
            "Updating 12215c7..47ee5ee\n",
            "Fast-forward\n",
            " tutorials/data/ni4672010201.pha | 42 \u001b[32m+++++++++++++++++++++++++++++++++++++++++\u001b[m\n",
            " 1 file changed, 42 insertions(+)\n",
            " create mode 100644 tutorials/data/ni4672010201.pha\n",
            "/content\n"
          ]
        }
      ]
    },
    {
      "cell_type": "code",
      "source": [
        "import nicer.nicer as ni\n",
        "import numpy as np\n",
        "import matplotlib.pyplot as plt\n",
        "\n",
        "import importlib # This is in case I made modification to the module, to force reloading\n",
        "importlib.reload(ni)"
      ],
      "metadata": {
        "id": "dojDxi5SImKo",
        "colab": {
          "base_uri": "https://localhost:8080/"
        },
        "outputId": "d2b03372-a410-466e-bb31-c016fcc52abd"
      },
      "execution_count": 3,
      "outputs": [
        {
          "output_type": "execute_result",
          "data": {
            "text/plain": [
              "<module 'nicer.nicer' from '/content/nicer/nicer.py'>"
            ]
          },
          "metadata": {},
          "execution_count": 3
        }
      ]
    },
    {
      "cell_type": "code",
      "source": [
        "fig, ax = plt.subplots(2,1)\n",
        "\n",
        "ni.plot_pha('nicer/tutorials/data/ni3627010101.pha', ax=ax[0])\n",
        "ax[0].set_title('eps Lupi')\n",
        "ni.plot_pha('nicer/tutorials/data/ni4672010201.pha', ax=ax[1])\n",
        "ax[1].set_title('zeta')\n",
        "\n",
        "for item in ax:\n",
        "  item.set_xlabel('Energy (keV)')\n",
        "  item.set_ylabel('Count rate')\n",
        "  item.set_xscale('log')\n",
        "  item.set_xlim(0.1, 15)\n",
        "\n",
        "plt.tight_layout()"
      ],
      "metadata": {
        "id": "YuOFBzHhJDWx",
        "outputId": "37adfc09-5643-4954-ca8e-b9438344875c",
        "colab": {
          "base_uri": "https://localhost:8080/",
          "height": 297
        }
      },
      "execution_count": 13,
      "outputs": [
        {
          "output_type": "display_data",
          "data": {
            "image/png": "[encoded data removed]",
            "text/plain": [
              "<Figure size 432x288 with 2 Axes>"
            ]
          },
          "metadata": {
            "needs_background": "light"
          }
        }
      ]
    },
    {
      "cell_type": "code",
      "source": [
        ""
      ],
      "metadata": {
        "id": "pnBqg2BtJJmQ"
      },
      "execution_count": null,
      "outputs": []
    }
  ]
}