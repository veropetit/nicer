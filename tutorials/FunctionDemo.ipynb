{
  "nbformat": 4,
  "nbformat_minor": 0,
  "metadata": {
    "colab": {
      "name": "FunctionDemo.ipynb",
      "provenance": [],
      "authorship_tag": "ABX9TyMua5dWT0FVMdR8HxBlp9h4",
      "include_colab_link": true
    },
    "kernelspec": {
      "name": "python3",
      "display_name": "Python 3"
    },
    "language_info": {
      "name": "python"
    }
  },
  "cells": [
    {
      "cell_type": "markdown",
      "metadata": {
        "id": "view-in-github",
        "colab_type": "text"
      },
      "source": [
        "<a href=\"https://colab.research.google.com/github/veropetit/nicer/blob/main/tutorials/FunctionDemo.ipynb\" target=\"_parent\"><img src=\"https://colab.research.google.com/assets/colab-badge.svg\" alt=\"Open In Colab\"/></a>"
      ]
    },
    {
      "cell_type": "markdown",
      "source": [
        "# Function demos"
      ],
      "metadata": {
        "id": "-eSAcIr6GqxD"
      }
    },
    {
      "cell_type": "code",
      "execution_count": 3,
      "metadata": {
        "id": "wm_ihWEnryGx",
        "colab": {
          "base_uri": "https://localhost:8080/"
        },
        "outputId": "b95c7b76-57c6-403e-a775-f913d8ee200e"
      },
      "outputs": [
        {
          "output_type": "stream",
          "name": "stdout",
          "text": [
            "fatal: destination path 'nicer' already exists and is not an empty directory.\n"
          ]
        }
      ],
      "source": [
        "!git clone https://github.com/veropetit/nicer"
      ]
    },
    {
      "cell_type": "code",
      "source": [
        "import nicer.nicer as ni"
      ],
      "metadata": {
        "id": "dojDxi5SImKo"
      },
      "execution_count": 5,
      "outputs": []
    },
    {
      "cell_type": "code",
      "source": [
        ""
      ],
      "metadata": {
        "id": "YuOFBzHhJDWx",
        "outputId": "bfd07866-3e89-431e-cb96-f3e6a783e4c5",
        "colab": {
          "base_uri": "https://localhost:8080/"
        }
      },
      "execution_count": 6,
      "outputs": [
        {
          "output_type": "execute_result",
          "data": {
            "text/plain": [
              "<module 'nicer.nicer' from '/content/nicer/nicer.py'>"
            ]
          },
          "metadata": {},
          "execution_count": 6
        }
      ]
    },
    {
      "cell_type": "code",
      "source": [
        ""
      ],
      "metadata": {
        "id": "pnBqg2BtJJmQ"
      },
      "execution_count": null,
      "outputs": []
    }
  ]
}